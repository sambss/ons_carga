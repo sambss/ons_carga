{
 "cells": [
  {
   "cell_type": "markdown",
   "id": "80e1074e",
   "metadata": {},
   "source": [
    "## Vamos trabalhar com os dados abertos do ONS - Operador Nacional do Sistema Elétrico.\n",
    "\n",
    "### Optei por trabalhar com os dados de Carga de Energia. Definição conforme site: [Dados de carga por subsistema numa data de referência em base diária.](https://dados.ons.org.br/dataset/carga-energia)\n",
    "\n",
    "### Nessa etapa de transformação, iremos modificar o tipo de dado atribuído às variáveis iniciais. Iremos escolher o mais correto para o tipo de informação transportada."
   ]
  },
  {
   "cell_type": "markdown",
   "id": "7e20bf11",
   "metadata": {},
   "source": [
    "### Load das bibliotecas e definição do contexto spark."
   ]
  },
  {
   "cell_type": "code",
   "execution_count": 1,
   "id": "2491ce76",
   "metadata": {},
   "outputs": [],
   "source": [
    "import os\n",
    "import pyspark\n",
    "\n",
    "from pyspark import SparkContext\n",
    "from pyspark.sql import SparkSession\n",
    "import pyspark.sql.functions as F\n",
    "from pyspark.sql.types import *"
   ]
  },
  {
   "cell_type": "code",
   "execution_count": 2,
   "id": "c9a57c66",
   "metadata": {},
   "outputs": [
    {
     "name": "stdout",
     "output_type": "stream",
     "text": [
      "ApplicationID: local-1631037395218\n"
     ]
    }
   ],
   "source": [
    "sc = SparkContext.getOrCreate()\n",
    "\n",
    "spark = (SparkSession\n",
    "      .builder\n",
    "      .getOrCreate()\n",
    "     )\n",
    "\n",
    "print('ApplicationID:', sc.applicationId)"
   ]
  },
  {
   "cell_type": "markdown",
   "id": "71d58d6f",
   "metadata": {},
   "source": [
    "### Caminhos de Leitura e Escrita das Bases de dados"
   ]
  },
  {
   "cell_type": "code",
   "execution_count": 3,
   "id": "bdb29050",
   "metadata": {},
   "outputs": [],
   "source": [
    "read_path = '../data/refined/01_bind/'\n",
    "\n",
    "write_path = '../data/refined/02_transform/'"
   ]
  },
  {
   "cell_type": "code",
   "execution_count": 4,
   "id": "2e958799",
   "metadata": {},
   "outputs": [
    {
     "name": "stdout",
     "output_type": "stream",
     "text": [
      "Número de registros: 31649\n",
      "root\n",
      " |-- id_subsistema: string (nullable = true)\n",
      " |-- nom_subsistema: string (nullable = true)\n",
      " |-- din_instante: string (nullable = true)\n",
      " |-- val_cargaenergiamwmed: string (nullable = true)\n",
      "\n"
     ]
    }
   ],
   "source": [
    "df = spark.read.parquet(read_path)\n",
    "\n",
    "print(f'Número de registros: {df.count()}')\n",
    "\n",
    "df.printSchema()"
   ]
  },
  {
   "cell_type": "markdown",
   "id": "260fb4d6",
   "metadata": {},
   "source": [
    "### Como trabalhamos na etapa anterior com csv, todos os dados foram inicialmente atribuídos como string. Isso será modificado agora de acordo com a informação da variável.\n",
    "\n",
    "- id_subsistema\n",
    "- nom_subsistema\n",
    "- din_instante\n",
    "- val_cargaeenergia (em MWmed)"
   ]
  },
  {
   "cell_type": "markdown",
   "id": "5c0be332",
   "metadata": {},
   "source": [
    "#### 'id_subsistema' e 'nom_subsistema' "
   ]
  },
  {
   "cell_type": "code",
   "execution_count": 5,
   "id": "78c6fe9a",
   "metadata": {},
   "outputs": [
    {
     "name": "stdout",
     "output_type": "stream",
     "text": [
      "+-------------+\n",
      "|id_subsistema|\n",
      "+-------------+\n",
      "|            N|\n",
      "|           NE|\n",
      "|            S|\n",
      "|           SE|\n",
      "+-------------+\n",
      "\n"
     ]
    }
   ],
   "source": [
    "df.select('id_subsistema').distinct().orderBy(F.col('id_subsistema')).show()"
   ]
  },
  {
   "cell_type": "markdown",
   "id": "6aabe54c",
   "metadata": {},
   "source": [
    "### Neste caso, \"N\", \"NE\", \"S\" e \"SE\" representam uma categoria. É uma boa prática converter esses strings em números. Como são apenas 4 opções, o tipo Byte é suficiente para representar todos os possíveis resultados. A transformação ocorrerá da seguinte forma:\n",
    "\n",
    "- \"N\" -> 1\n",
    "- \"NE\" -> 2\n",
    "- \"S\" -> 3\n",
    "- \"SE\" -> 4"
   ]
  },
  {
   "cell_type": "code",
   "execution_count": 6,
   "id": "0f4d1672",
   "metadata": {},
   "outputs": [
    {
     "name": "stdout",
     "output_type": "stream",
     "text": [
      "+-------------+\n",
      "|id_subsistema|\n",
      "+-------------+\n",
      "|            1|\n",
      "|            2|\n",
      "|            3|\n",
      "|            4|\n",
      "+-------------+\n",
      "\n"
     ]
    }
   ],
   "source": [
    "df = df.withColumn('id_subsistema', F.when(F.col('id_subsistema') == 'N',1).\n",
    "                  when(F.col('id_subsistema') == 'NE',2).\n",
    "                  when(F.col('id_subsistema') == 'S',3).\n",
    "                  when(F.col('id_subsistema') == 'SE',4).cast(ByteType()))\n",
    "\n",
    "df.select('id_subsistema').distinct().orderBy(F.col('id_subsistema')).show()"
   ]
  },
  {
   "cell_type": "markdown",
   "id": "8e915010",
   "metadata": {},
   "source": [
    "### Podemos obter o mesmo resultado utilizando UDF (user defined function)"
   ]
  },
  {
   "cell_type": "code",
   "execution_count": 7,
   "id": "ac58b5c6",
   "metadata": {},
   "outputs": [],
   "source": [
    "dic_subsistema = {'N':1, 'NE':2, 'S':3, 'SE':4}\n",
    "\n",
    "def transform_subsistema(id_subsistema):\n",
    "    return dic_subsistema[id_subsistema]\n",
    "\n",
    "udf_transform_subsistema = F.udf(transform_subsistema, ByteType())"
   ]
  },
  {
   "cell_type": "code",
   "execution_count": 8,
   "id": "5aaa90ab",
   "metadata": {},
   "outputs": [],
   "source": [
    "# df = df.withColumn('id_subsistema', udf_transform_subsistema(F.col('id_subsistema')))\n",
    "# df.select('id_subsistema').distinct().orderBy(F.col('id_subsistema')).show()"
   ]
  },
  {
   "cell_type": "markdown",
   "id": "b706aff5",
   "metadata": {},
   "source": [
    "### 'nom_subsistema\" transmite o nome por extenso da categoria 'id_subsistema'. Temos duas alternativas abaixo, optei pela primeira.\n",
    "- Manter a coluna por uma questão de integridade dos dados.\n",
    "- Eliminar a colunar por possuir informação redundante."
   ]
  },
  {
   "cell_type": "markdown",
   "id": "50d5c8a3",
   "metadata": {},
   "source": [
    "#### 'din_instante'"
   ]
  },
  {
   "cell_type": "markdown",
   "id": "b129a8d5",
   "metadata": {},
   "source": [
    "### Essa é uma variável de data. Corresponde a data de referência da medição. O tipo mais apropriado é o DateType. É necessário verificar qual o formato da data na string. Suspeita-se que seja aaaa-MM-dd."
   ]
  },
  {
   "cell_type": "code",
   "execution_count": 9,
   "id": "5103e42d",
   "metadata": {
    "scrolled": false
   },
   "outputs": [
    {
     "name": "stdout",
     "output_type": "stream",
     "text": [
      "Maiores tamanhos de string de data e exemplos:\n",
      "+----------------+-------------------+\n",
      "|len_din_instante|       din_instante|\n",
      "+----------------+-------------------+\n",
      "|              19|2013-01-01 00:00:00|\n",
      "|              19|2013-01-02 00:00:00|\n",
      "|              19|2013-01-01 00:00:00|\n",
      "|              19|2013-01-01 00:00:00|\n",
      "|              19|2013-01-01 00:00:00|\n",
      "+----------------+-------------------+\n",
      "only showing top 5 rows\n",
      "\n",
      "Menores tamanhos de string de data e exemplos:\n",
      "+----------------+------------+\n",
      "|len_din_instante|din_instante|\n",
      "+----------------+------------+\n",
      "|              10|  2006-01-01|\n",
      "|              10|  2006-01-01|\n",
      "|              10|  2006-01-01|\n",
      "|              10|  2006-01-01|\n",
      "|              10|  2006-01-02|\n",
      "+----------------+------------+\n",
      "only showing top 5 rows\n",
      "\n",
      "Valores únicos de string de data:\n",
      "+----------------+\n",
      "|len_din_instante|\n",
      "+----------------+\n",
      "|              19|\n",
      "|              10|\n",
      "+----------------+\n",
      "\n"
     ]
    }
   ],
   "source": [
    "df = df.withColumn('len_din_instante', F.length(F.col('din_instante')).cast(IntegerType()))\n",
    "\n",
    "print('Maiores tamanhos de string de data e exemplos:')\n",
    "df.select('len_din_instante', 'din_instante').orderBy(F.col('len_din_instante').desc()).show(5)\n",
    "\n",
    "print('Menores tamanhos de string de data e exemplos:')\n",
    "df.select('len_din_instante', 'din_instante').orderBy(F.col('len_din_instante')).show(5)\n",
    "\n",
    "print('Valores únicos de string de data:')\n",
    "df.select('len_din_instante').dropDuplicates().show()"
   ]
  },
  {
   "cell_type": "markdown",
   "id": "735bd12d",
   "metadata": {},
   "source": [
    "#### Neste caso, apenas nos interessa os 10 primeiros caracteres."
   ]
  },
  {
   "cell_type": "code",
   "execution_count": 10,
   "id": "614d3625",
   "metadata": {},
   "outputs": [],
   "source": [
    "df = df.withColumn('din_instante', F.substring(F.col('din_instante'),1,10))\n",
    "df = df.withColumn('din_instante', F.to_date(F.col('din_instante'), 'yyyy-MM-dd'))\n",
    "df = df.drop('len_din_instante')"
   ]
  },
  {
   "cell_type": "markdown",
   "id": "281dbe3b",
   "metadata": {},
   "source": [
    "#### 'val_cargaenergiamwmed'"
   ]
  },
  {
   "cell_type": "markdown",
   "id": "b31165e0",
   "metadata": {},
   "source": [
    "### Neste caso, trata-se de uma variável númerica com parte decimal. O tipo indicado então é o DoubleType."
   ]
  },
  {
   "cell_type": "code",
   "execution_count": 12,
   "id": "16fb1e62",
   "metadata": {},
   "outputs": [],
   "source": [
    "df = df.withColumn('val_cargaenergiamwmed', F.col('val_cargaenergiamwmed').cast(DoubleType()))"
   ]
  },
  {
   "cell_type": "markdown",
   "id": "3d93a912",
   "metadata": {},
   "source": [
    "### O printschema abaixo indica que os tipos foram alterados."
   ]
  },
  {
   "cell_type": "code",
   "execution_count": 13,
   "id": "ad4d323f",
   "metadata": {},
   "outputs": [
    {
     "name": "stdout",
     "output_type": "stream",
     "text": [
      "Número de registros: 31649\n",
      "root\n",
      " |-- id_subsistema: byte (nullable = true)\n",
      " |-- nom_subsistema: string (nullable = true)\n",
      " |-- din_instante: date (nullable = true)\n",
      " |-- val_cargaenergiamwmed: double (nullable = true)\n",
      "\n"
     ]
    }
   ],
   "source": [
    "print(f'Número de registros: {df.count()}')\n",
    "\n",
    "df.printSchema()"
   ]
  },
  {
   "cell_type": "markdown",
   "id": "5041f3d7",
   "metadata": {},
   "source": [
    "### Escrita da base"
   ]
  },
  {
   "cell_type": "code",
   "execution_count": 14,
   "id": "09530756",
   "metadata": {},
   "outputs": [],
   "source": [
    "df.write.parquet(write_path, mode= 'overwrite')"
   ]
  },
  {
   "cell_type": "code",
   "execution_count": 15,
   "id": "f34e24c8",
   "metadata": {},
   "outputs": [],
   "source": [
    "sc.stop()"
   ]
  }
 ],
 "metadata": {
  "kernelspec": {
   "display_name": "pyspark_env",
   "language": "python",
   "name": "pyspark_env"
  },
  "language_info": {
   "codemirror_mode": {
    "name": "ipython",
    "version": 3
   },
   "file_extension": ".py",
   "mimetype": "text/x-python",
   "name": "python",
   "nbconvert_exporter": "python",
   "pygments_lexer": "ipython3",
   "version": "3.9.6"
  }
 },
 "nbformat": 4,
 "nbformat_minor": 5
}
