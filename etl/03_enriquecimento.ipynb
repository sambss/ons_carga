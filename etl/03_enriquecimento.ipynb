{
 "cells": [
  {
   "cell_type": "markdown",
   "id": "70e813e2",
   "metadata": {},
   "source": [
    "## Vamos trabalhar com os dados abertos do ONS - Operador Nacional do Sistema Elétrico.\n",
    "\n",
    "### Optei por trabalhar com os dados de Carga de Energia. Definição conforme site: [Dados de carga por subsistema numa data de referência em base diária.](https://dados.ons.org.br/dataset/carga-energia)\n",
    "\n",
    "### Nessa etapa, iremos criar novas colunas a partir das informações já existentes. O objetivo é que as novas variáveis auxiliem nas futuras análises"
   ]
  },
  {
   "cell_type": "markdown",
   "id": "ffffca32",
   "metadata": {},
   "source": [
    "### Load das bibliotecas e definição do contexto spark."
   ]
  },
  {
   "cell_type": "code",
   "execution_count": 1,
   "id": "532f3f4c",
   "metadata": {},
   "outputs": [],
   "source": [
    "import pyspark\n",
    "\n",
    "from pyspark import SparkContext\n",
    "from pyspark.sql import SparkSession\n",
    "import pyspark.sql.functions as F\n",
    "from pyspark.sql.types import *\n",
    "from pyspark.sql.window import Window"
   ]
  },
  {
   "cell_type": "code",
   "execution_count": 2,
   "id": "a1fb2b3d",
   "metadata": {},
   "outputs": [
    {
     "name": "stdout",
     "output_type": "stream",
     "text": [
      "ApplicationID: local-1631045312067\n"
     ]
    }
   ],
   "source": [
    "sc = SparkContext.getOrCreate()\n",
    "\n",
    "spark = (SparkSession\n",
    "      .builder\n",
    "      .getOrCreate()\n",
    "     )\n",
    "\n",
    "print('ApplicationID:', sc.applicationId)"
   ]
  },
  {
   "cell_type": "markdown",
   "id": "b4d6ef36",
   "metadata": {},
   "source": [
    "### Caminhos de Leitura e Escrita das Bases de dados"
   ]
  },
  {
   "cell_type": "code",
   "execution_count": 3,
   "id": "bff99b17",
   "metadata": {},
   "outputs": [],
   "source": [
    "read_path = '../data/refined/02_transform/'\n",
    "\n",
    "write_path = '../data/refined/03_enriquecimento'"
   ]
  },
  {
   "cell_type": "code",
   "execution_count": 4,
   "id": "9ff8c5e5",
   "metadata": {},
   "outputs": [
    {
     "name": "stdout",
     "output_type": "stream",
     "text": [
      "Número de registros: 31649\n",
      "root\n",
      " |-- id_subsistema: byte (nullable = true)\n",
      " |-- nom_subsistema: string (nullable = true)\n",
      " |-- din_instante: date (nullable = true)\n",
      " |-- val_cargaenergiamwmed: double (nullable = true)\n",
      "\n"
     ]
    }
   ],
   "source": [
    "df = spark.read.parquet(read_path)\n",
    "\n",
    "print(f'Número de registros: {df.count()}')\n",
    "\n",
    "df.printSchema()"
   ]
  },
  {
   "cell_type": "markdown",
   "id": "07e31f65",
   "metadata": {},
   "source": [
    "### A primeira variável proposta é o ano do registro. Essa variável facilita análises temporais."
   ]
  },
  {
   "cell_type": "code",
   "execution_count": 5,
   "id": "140fe22f",
   "metadata": {},
   "outputs": [],
   "source": [
    "df = df.withColumn('ano', F.year(F.col('din_instante')).cast(IntegerType()))"
   ]
  },
  {
   "cell_type": "markdown",
   "id": "85d0c279",
   "metadata": {},
   "source": [
    "### A segunda é o mês do registro. Muito parecida com a anterior, facilita a comparação entre diferentes meses dentro de um mesmo ano, ou de um mesmo mês para diferentes anos."
   ]
  },
  {
   "cell_type": "code",
   "execution_count": 6,
   "id": "2697f379",
   "metadata": {},
   "outputs": [],
   "source": [
    "df = df.withColumn('mes', F.month(F.col('din_instante')).cast(IntegerType()))"
   ]
  },
  {
   "cell_type": "markdown",
   "id": "25bc6f37",
   "metadata": {},
   "source": [
    "### Propões criar um 'id_medicao' único para cada registro. Os dados serão organizados em ordem crescente baseado em 'din_instante'. O critério de desempate para cada data será o 'id_subsistema'."
   ]
  },
  {
   "cell_type": "code",
   "execution_count": 7,
   "id": "d32bc41c",
   "metadata": {},
   "outputs": [],
   "source": [
    "window_spec = Window.orderBy(F.col('din_instante'), F.col('id_subsistema'))\n",
    "df = df.withColumn('id_medicao', F.row_number().over(window_spec))"
   ]
  },
  {
   "cell_type": "markdown",
   "id": "cf987f80",
   "metadata": {},
   "source": [
    "### Escrita da base com reordenação das colunas"
   ]
  },
  {
   "cell_type": "code",
   "execution_count": 8,
   "id": "2e3a263d",
   "metadata": {},
   "outputs": [],
   "source": [
    "df_variaveis = ['id_medicao', \n",
    "             'nom_subsistema', \n",
    "             'id_subsistema',\n",
    "             'val_cargaenergiamwmed',\n",
    "             'din_instante',\n",
    "             'mes',\n",
    "             'ano',]"
   ]
  },
  {
   "cell_type": "code",
   "execution_count": 9,
   "id": "9f80c871",
   "metadata": {},
   "outputs": [],
   "source": [
    "df.select(df_variaveis).write.parquet(write_path)"
   ]
  },
  {
   "cell_type": "code",
   "execution_count": 10,
   "id": "f9c2540c",
   "metadata": {},
   "outputs": [],
   "source": [
    "sc.stop()"
   ]
  }
 ],
 "metadata": {
  "kernelspec": {
   "display_name": "Python [conda env:pyspark_env]",
   "language": "python",
   "name": "conda-env-pyspark_env-py"
  },
  "language_info": {
   "codemirror_mode": {
    "name": "ipython",
    "version": 3
   },
   "file_extension": ".py",
   "mimetype": "text/x-python",
   "name": "python",
   "nbconvert_exporter": "python",
   "pygments_lexer": "ipython3",
   "version": "3.9.6"
  }
 },
 "nbformat": 4,
 "nbformat_minor": 5
}
