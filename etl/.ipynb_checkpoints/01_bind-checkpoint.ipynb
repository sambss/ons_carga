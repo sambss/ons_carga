{
 "cells": [
  {
   "cell_type": "markdown",
   "id": "a9c85ec2",
   "metadata": {},
   "source": [
    "## Vamos trabalhar com os dados abertos do ONS - Operador Nacional do Sistema Elétrico.\n",
    "\n",
    "### Optei por trabalhar com os dados de Carga de Energia. Definição conforme site: [Dados de carga por subsistema numa data de referência em base diária.](https://dados.ons.org.br/dataset/carga-energia)\n",
    "\n",
    "### As variáveis iniciais são:\n",
    "- \"id_subsistema\n",
    "- nom_subsistema\n",
    "- din_instante\n",
    "- val_cargaeenergia (em MWmed)\n",
    "\n",
    "### Nessa primeira etapa, iremos unir os arquivos individuais em um único Dataframe."
   ]
  },
  {
   "cell_type": "markdown",
   "id": "72692117",
   "metadata": {},
   "source": [
    "### Load das bibliotecas e definição do contexto spark."
   ]
  },
  {
   "cell_type": "code",
   "execution_count": 1,
   "id": "5645c156",
   "metadata": {},
   "outputs": [],
   "source": [
    "import os\n",
    "import pyspark\n",
    "\n",
    "from pyspark import SparkContext\n",
    "from pyspark.sql import SparkSession\n",
    "import pyspark.sql.functions as F\n",
    "from pyspark.sql.types import *"
   ]
  },
  {
   "cell_type": "code",
   "execution_count": 2,
   "id": "40f57512",
   "metadata": {},
   "outputs": [
    {
     "name": "stdout",
     "output_type": "stream",
     "text": [
      "ApplicationID: local-1630363732963\n"
     ]
    }
   ],
   "source": [
    "sc = SparkContext.getOrCreate()\n",
    "\n",
    "spark = (SparkSession\n",
    "      .builder\n",
    "      .getOrCreate()\n",
    "     )\n",
    "\n",
    "print('ApplicationID:', sc.applicationId)"
   ]
  },
  {
   "cell_type": "markdown",
   "id": "5be9dcd4",
   "metadata": {},
   "source": [
    "### Caminhos de Leitura e Escrita das Bases de dados"
   ]
  },
  {
   "cell_type": "code",
   "execution_count": 3,
   "id": "3deaa93d",
   "metadata": {},
   "outputs": [],
   "source": [
    "read_path = '../data/raw/'\n",
    "read_path_list = [read_path + x for x in os.listdir(read_path)]\n",
    "read_path_list.sort()\n",
    "\n",
    "write_path = '../data/refined/01_bind'"
   ]
  },
  {
   "cell_type": "markdown",
   "id": "360323f2",
   "metadata": {},
   "source": [
    "### Criando lista de Dataframes, verificação se todas possuem a mesma \"header\" e quantidade de registros"
   ]
  },
  {
   "cell_type": "code",
   "execution_count": 4,
   "id": "08439d88",
   "metadata": {},
   "outputs": [],
   "source": [
    "dfs = [spark.read.csv(x, header= True, multiLine= True, sep= \";\") for x in read_path_list]"
   ]
  },
  {
   "cell_type": "code",
   "execution_count": 5,
   "id": "29ec17b2",
   "metadata": {},
   "outputs": [
    {
     "name": "stdout",
     "output_type": "stream",
     "text": [
      "{'id_subsistema', 'din_instante', 'val_cargaenergiamwmed', 'nom_subsistema'}\n"
     ]
    }
   ],
   "source": [
    "# O método columns do dataframe retorna uma lista com o nome das colunas daquele df.\n",
    "# Utilizando set, eliminamos strings duplicadas.\n",
    "colunas_distintas = set()\n",
    "for x in dfs:\n",
    "    colunas_distintas = colunas_distintas.union(set(x.columns))\n",
    "\n",
    "print(colunas_distintas)"
   ]
  },
  {
   "cell_type": "code",
   "execution_count": 6,
   "id": "07bd5f8e",
   "metadata": {
    "scrolled": true
   },
   "outputs": [
    {
     "name": "stdout",
     "output_type": "stream",
     "text": [
      "Base '../data/raw/CARGA_ENERGIA_2000.csv': 1464 registros\n",
      "Base '../data/raw/CARGA_ENERGIA_2001.csv': 1460 registros\n",
      "Base '../data/raw/CARGA_ENERGIA_2002.csv': 1460 registros\n",
      "Base '../data/raw/CARGA_ENERGIA_2003.csv': 1460 registros\n",
      "Base '../data/raw/CARGA_ENERGIA_2004.csv': 1464 registros\n",
      "Base '../data/raw/CARGA_ENERGIA_2005.csv': 1460 registros\n",
      "Base '../data/raw/CARGA_ENERGIA_2006.csv': 1460 registros\n",
      "Base '../data/raw/CARGA_ENERGIA_2007.csv': 1460 registros\n",
      "Base '../data/raw/CARGA_ENERGIA_2008.csv': 1464 registros\n",
      "Base '../data/raw/CARGA_ENERGIA_2009.csv': 1460 registros\n",
      "Base '../data/raw/CARGA_ENERGIA_2010.csv': 1460 registros\n",
      "Base '../data/raw/CARGA_ENERGIA_2011.csv': 1460 registros\n",
      "Base '../data/raw/CARGA_ENERGIA_2012.csv': 1464 registros\n",
      "Base '../data/raw/CARGA_ENERGIA_2013.csv': 1461 registros\n",
      "Base '../data/raw/CARGA_ENERGIA_2014.csv': 1460 registros\n",
      "Base '../data/raw/CARGA_ENERGIA_2015.csv': 1460 registros\n",
      "Base '../data/raw/CARGA_ENERGIA_2016.csv': 1464 registros\n",
      "Base '../data/raw/CARGA_ENERGIA_2017.csv': 1460 registros\n",
      "Base '../data/raw/CARGA_ENERGIA_2018.csv': 1460 registros\n",
      "Base '../data/raw/CARGA_ENERGIA_2019.csv': 1460 registros\n",
      "Base '../data/raw/CARGA_ENERGIA_2020.csv': 1464 registros\n",
      "Base '../data/raw/CARGA_ENERGIA_2021.csv': 964 registros\n"
     ]
    }
   ],
   "source": [
    "for i in range(len(dfs)):\n",
    "    print(f'Base \\'{read_path_list[i]}\\': {dfs[i].count()} registros')"
   ]
  },
  {
   "cell_type": "markdown",
   "id": "72187236",
   "metadata": {},
   "source": [
    "### Como a base de 2013 apresentou um registro a mais que o padrão, vale uma investigação rápida. Uma forma de verificar se houve deslocamento de registro, por exemplo, consiste em agrupar os valores de uma variável categórica e observar se há algum resultado estranho para aquela categoria. \"S\" possui uma ocorrência a mais que os outros, mas não apareceu alguma data ou número, por exemplo."
   ]
  },
  {
   "cell_type": "code",
   "execution_count": 7,
   "id": "7198a664",
   "metadata": {},
   "outputs": [
    {
     "name": "stdout",
     "output_type": "stream",
     "text": [
      "+-------------+-----+\n",
      "|id_subsistema|count|\n",
      "+-------------+-----+\n",
      "|           NE|  365|\n",
      "|            N|  365|\n",
      "|            S|  366|\n",
      "|           SE|  365|\n",
      "+-------------+-----+\n",
      "\n"
     ]
    }
   ],
   "source": [
    "dfs[-9].groupBy('id_subsistema').count().show()"
   ]
  },
  {
   "cell_type": "markdown",
   "id": "73122fff",
   "metadata": {},
   "source": [
    "### Para obter todas as informações em um único Dataframe, utilizaremos \"union\"."
   ]
  },
  {
   "cell_type": "code",
   "execution_count": 8,
   "id": "bfb1f42d",
   "metadata": {},
   "outputs": [
    {
     "name": "stdout",
     "output_type": "stream",
     "text": [
      "+-------------+-----+\n",
      "|id_subsistema|count|\n",
      "+-------------+-----+\n",
      "|           NE| 7912|\n",
      "|            N| 7912|\n",
      "|            S| 7913|\n",
      "|           SE| 7912|\n",
      "+-------------+-----+\n",
      "\n"
     ]
    }
   ],
   "source": [
    "df = dfs[0]\n",
    "for i in range(1,len(dfs)):\n",
    "    df = df.union(dfs[i])\n",
    "    \n",
    "df.groupBy('id_subsistema').count().show()"
   ]
  },
  {
   "cell_type": "markdown",
   "id": "e3907369",
   "metadata": {},
   "source": [
    "### Por fim, a escrita da base em parquet."
   ]
  },
  {
   "cell_type": "code",
   "execution_count": 9,
   "id": "ca56af06",
   "metadata": {},
   "outputs": [],
   "source": [
    "df.write.parquet(write_path)"
   ]
  },
  {
   "cell_type": "code",
   "execution_count": 10,
   "id": "3e818876",
   "metadata": {},
   "outputs": [],
   "source": [
    "sc.stop()"
   ]
  }
 ],
 "metadata": {
  "kernelspec": {
   "display_name": "Python [conda env:pyspark_env]",
   "language": "python",
   "name": "conda-env-pyspark_env-py"
  },
  "language_info": {
   "codemirror_mode": {
    "name": "ipython",
    "version": 3
   },
   "file_extension": ".py",
   "mimetype": "text/x-python",
   "name": "python",
   "nbconvert_exporter": "python",
   "pygments_lexer": "ipython3",
   "version": "3.9.6"
  }
 },
 "nbformat": 4,
 "nbformat_minor": 5
}
