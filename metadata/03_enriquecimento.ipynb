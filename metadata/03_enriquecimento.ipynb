{
 "cells": [
  {
   "cell_type": "markdown",
   "id": "596f1161",
   "metadata": {},
   "source": [
    "## Vamos trabalhar com os dados abertos do ONS - Operador Nacional do Sistema Elétrico.\n",
    "\n",
    "### Optei por trabalhar com os dados de Carga de Energia. Definição conforme site: [Dados de carga por subsistema numa data de referência em base diária.](https://dados.ons.org.br/dataset/carga-energia)\n",
    "\n",
    "### Nessa etapa, iremos validar as novas variáveis criadas."
   ]
  },
  {
   "cell_type": "markdown",
   "id": "cd1d8800",
   "metadata": {},
   "source": [
    "### Load das bibliotecas e definição do contexto spark."
   ]
  },
  {
   "cell_type": "code",
   "execution_count": 1,
   "id": "e50d95be",
   "metadata": {},
   "outputs": [],
   "source": [
    "import pyspark\n",
    "\n",
    "from pyspark import SparkContext\n",
    "from pyspark.sql import SparkSession\n",
    "import pyspark.sql.functions as F\n",
    "from random import randint"
   ]
  },
  {
   "cell_type": "code",
   "execution_count": 2,
   "id": "b0edf432",
   "metadata": {},
   "outputs": [
    {
     "name": "stdout",
     "output_type": "stream",
     "text": [
      "ApplicationID: local-1632184203374\n"
     ]
    }
   ],
   "source": [
    "sc = SparkContext.getOrCreate()\n",
    "\n",
    "spark = (SparkSession\n",
    "      .builder\n",
    "      .getOrCreate()\n",
    "     )\n",
    "\n",
    "print('ApplicationID:', sc.applicationId)"
   ]
  },
  {
   "cell_type": "markdown",
   "id": "cbae6810",
   "metadata": {},
   "source": [
    "### Caminhos de Leitura e Load da base"
   ]
  },
  {
   "cell_type": "code",
   "execution_count": 3,
   "id": "eab3f498",
   "metadata": {},
   "outputs": [],
   "source": [
    "read_path = '../data/refined/03_enriquecimento'"
   ]
  },
  {
   "cell_type": "code",
   "execution_count": 4,
   "id": "200a213b",
   "metadata": {},
   "outputs": [
    {
     "name": "stdout",
     "output_type": "stream",
     "text": [
      "Número de registros: 31649\n",
      "root\n",
      " |-- id_medicao: integer (nullable = true)\n",
      " |-- nom_subsistema: string (nullable = true)\n",
      " |-- id_subsistema: byte (nullable = true)\n",
      " |-- val_cargaenergiamwmed: double (nullable = true)\n",
      " |-- din_instante: date (nullable = true)\n",
      " |-- mes: integer (nullable = true)\n",
      " |-- ano: integer (nullable = true)\n",
      "\n"
     ]
    }
   ],
   "source": [
    "df = spark.read.parquet(read_path)\n",
    "\n",
    "print(f'Número de registros: {df.count()}')\n",
    "\n",
    "df.printSchema()"
   ]
  },
  {
   "cell_type": "markdown",
   "id": "7fae4ab6",
   "metadata": {},
   "source": [
    "### Análise da completude das variáveis criadas"
   ]
  },
  {
   "cell_type": "code",
   "execution_count": 5,
   "id": "01dfb5a8",
   "metadata": {},
   "outputs": [
    {
     "name": "stdout",
     "output_type": "stream",
     "text": [
      "Quantidade de registros nulos da variável \"id_medicao\":     0\n",
      "Quantidade de registros nulos da variável \"mes\":     0\n",
      "Quantidade de registros nulos da variável \"ano\":     0\n"
     ]
    }
   ],
   "source": [
    "new_var = ['id_medicao', 'mes', 'ano']\n",
    "\n",
    "for variavel in new_var:\n",
    "    print(f'Quantidade de registros nulos da variável \"{variavel}\": \\\n",
    "    {df.filter(F.col(variavel).isNull()).count()}')"
   ]
  },
  {
   "cell_type": "markdown",
   "id": "9c5bea79",
   "metadata": {},
   "source": [
    "### Análise de 'id_medicao'\n",
    "- Únicos, Valor mínimo, Máximo\n",
    "- Verificação se os id's estão em ordem crescente de acordo com 'din_instante' e 'id_subsistema'"
   ]
  },
  {
   "cell_type": "code",
   "execution_count": 6,
   "id": "4647c965",
   "metadata": {},
   "outputs": [
    {
     "name": "stdout",
     "output_type": "stream",
     "text": [
      "Quantidade de registros únicos: 31649\n",
      "Id mínimo: 1\n",
      "Id máximo: 31649\n"
     ]
    }
   ],
   "source": [
    "print(f'Quantidade de registros únicos: {df.select(\"id_medicao\").dropDuplicates().count()}')\n",
    "\n",
    "id_minimo = df.select(F.min(\"id_medicao\")).collect()[0][0]\n",
    "print(f'Id mínimo: {id_minimo}')\n",
    "\n",
    "id_maximo = df.select(F.max(\"id_medicao\")).collect()[0][0]\n",
    "print(f'Id máximo: {id_maximo}')"
   ]
  },
  {
   "cell_type": "code",
   "execution_count": 7,
   "id": "c23d0ce7",
   "metadata": {},
   "outputs": [
    {
     "name": "stdout",
     "output_type": "stream",
     "text": [
      "+----------+------------+-------------+\n",
      "|id_medicao|din_instante|id_subsistema|\n",
      "+----------+------------+-------------+\n",
      "|         1|  2000-01-01|            1|\n",
      "|         2|  2000-01-01|            2|\n",
      "|         3|  2000-01-01|            3|\n",
      "|         4|  2000-01-01|            4|\n",
      "|         5|  2000-01-02|            1|\n",
      "|         6|  2000-01-02|            2|\n",
      "|         7|  2000-01-02|            3|\n",
      "|         8|  2000-01-02|            4|\n",
      "|         9|  2000-01-03|            1|\n",
      "|        10|  2000-01-03|            2|\n",
      "|        11|  2000-01-03|            3|\n",
      "|        12|  2000-01-03|            4|\n",
      "|        13|  2000-01-04|            1|\n",
      "|        14|  2000-01-04|            2|\n",
      "|        15|  2000-01-04|            3|\n",
      "|        16|  2000-01-04|            4|\n",
      "|        17|  2000-01-05|            1|\n",
      "|        18|  2000-01-05|            2|\n",
      "|        19|  2000-01-05|            3|\n",
      "|        20|  2000-01-05|            4|\n",
      "+----------+------------+-------------+\n",
      "only showing top 20 rows\n",
      "\n"
     ]
    }
   ],
   "source": [
    "df.select('id_medicao', 'din_instante', 'id_subsistema').show()"
   ]
  },
  {
   "cell_type": "code",
   "execution_count": 8,
   "id": "7d6fd6cb",
   "metadata": {},
   "outputs": [
    {
     "name": "stdout",
     "output_type": "stream",
     "text": [
      "+----------+------------+-------------+\n",
      "|id_medicao|din_instante|id_subsistema|\n",
      "+----------+------------+-------------+\n",
      "|     31649|  2021-08-29|            4|\n",
      "|     31648|  2021-08-29|            3|\n",
      "|     31647|  2021-08-29|            2|\n",
      "|     31646|  2021-08-29|            1|\n",
      "|     31645|  2021-08-28|            4|\n",
      "|     31644|  2021-08-28|            3|\n",
      "|     31643|  2021-08-28|            2|\n",
      "|     31642|  2021-08-28|            1|\n",
      "|     31641|  2021-08-27|            4|\n",
      "|     31640|  2021-08-27|            3|\n",
      "|     31639|  2021-08-27|            2|\n",
      "|     31638|  2021-08-27|            1|\n",
      "|     31637|  2021-08-26|            4|\n",
      "|     31636|  2021-08-26|            3|\n",
      "|     31635|  2021-08-26|            2|\n",
      "|     31634|  2021-08-26|            1|\n",
      "|     31633|  2021-08-25|            4|\n",
      "|     31632|  2021-08-25|            3|\n",
      "|     31631|  2021-08-25|            2|\n",
      "|     31630|  2021-08-25|            1|\n",
      "+----------+------------+-------------+\n",
      "only showing top 20 rows\n",
      "\n"
     ]
    }
   ],
   "source": [
    "df.select('id_medicao', 'din_instante', 'id_subsistema').orderBy(F.col('id_medicao').desc()).show()"
   ]
  },
  {
   "cell_type": "markdown",
   "id": "97ae54bb",
   "metadata": {},
   "source": [
    "### Análise de 'mes'\n",
    "- Valores únicos\n",
    "- Verificar se a informação é compatível com 'din_instante'\n",
    "- Distribuição da variável"
   ]
  },
  {
   "cell_type": "code",
   "execution_count": 9,
   "id": "5093e3e6",
   "metadata": {},
   "outputs": [
    {
     "name": "stdout",
     "output_type": "stream",
     "text": [
      "Lista dos possíveis valores da variável \"mes\":\n",
      "[1, 2, 3, 4, 5, 6, 7, 8, 9, 10, 11, 12]\n"
     ]
    }
   ],
   "source": [
    "print(f'Lista dos possíveis valores da variável \"mes\":')\n",
    "mes_unicos = df.select('mes').dropDuplicates().collect()\n",
    "mes_unicos = sorted([x[0] for x in mes_unicos])\n",
    "print(mes_unicos)"
   ]
  },
  {
   "cell_type": "code",
   "execution_count": 10,
   "id": "7d1a2f5f",
   "metadata": {},
   "outputs": [
    {
     "name": "stdout",
     "output_type": "stream",
     "text": [
      "Quantidade de registros em que \"mes\" não é o mês obtido em \"din_instante\": 0\n"
     ]
    }
   ],
   "source": [
    "print(f'Quantidade de registros em que \"mes\" não é o mês obtido em \"din_instante\": \\\n",
    "{df.filter(F.col(\"mes\") != F.month(F.col(\"din_instante\"))).count()}')"
   ]
  },
  {
   "cell_type": "code",
   "execution_count": 11,
   "id": "27bd4b38",
   "metadata": {},
   "outputs": [
    {
     "name": "stdout",
     "output_type": "stream",
     "text": [
      "+---+------------+\n",
      "|mes|din_instante|\n",
      "+---+------------+\n",
      "|  9|  2000-09-01|\n",
      "|  9|  2000-09-01|\n",
      "|  9|  2000-09-01|\n",
      "|  9|  2000-09-01|\n",
      "|  9|  2000-09-02|\n",
      "|  9|  2000-09-02|\n",
      "|  9|  2000-09-02|\n",
      "|  9|  2000-09-02|\n",
      "|  9|  2000-09-03|\n",
      "|  9|  2000-09-03|\n",
      "|  9|  2000-09-03|\n",
      "|  9|  2000-09-03|\n",
      "|  9|  2000-09-04|\n",
      "|  9|  2000-09-04|\n",
      "|  9|  2000-09-04|\n",
      "|  9|  2000-09-04|\n",
      "|  9|  2000-09-05|\n",
      "|  9|  2000-09-05|\n",
      "|  9|  2000-09-05|\n",
      "|  9|  2000-09-05|\n",
      "+---+------------+\n",
      "only showing top 20 rows\n",
      "\n"
     ]
    }
   ],
   "source": [
    "mes_teste = randint(1, 12)\n",
    "df.select('mes', 'din_instante').filter(F.col('mes') == mes_teste).show()"
   ]
  },
  {
   "cell_type": "code",
   "execution_count": 12,
   "id": "90208732",
   "metadata": {},
   "outputs": [
    {
     "name": "stdout",
     "output_type": "stream",
     "text": [
      "+---+-----+\n",
      "|mes|count|\n",
      "+---+-----+\n",
      "|  1| 2728|\n",
      "|  2| 2489|\n",
      "|  3| 2728|\n",
      "|  4| 2640|\n",
      "|  5| 2728|\n",
      "|  6| 2640|\n",
      "|  7| 2728|\n",
      "|  8| 2720|\n",
      "|  9| 2520|\n",
      "| 10| 2604|\n",
      "| 11| 2520|\n",
      "| 12| 2604|\n",
      "+---+-----+\n",
      "\n"
     ]
    }
   ],
   "source": [
    "df.groupBy('mes').count().orderBy(F.col('mes')).show()"
   ]
  },
  {
   "cell_type": "markdown",
   "id": "e74b588c",
   "metadata": {},
   "source": [
    "### Análise de 'ano'\n",
    "- Valores únicos\n",
    "- Verificar se a informação é compatível com 'din_instante'\n",
    "- Distribuição da variável"
   ]
  },
  {
   "cell_type": "code",
   "execution_count": 13,
   "id": "951d4bb7",
   "metadata": {},
   "outputs": [
    {
     "name": "stdout",
     "output_type": "stream",
     "text": [
      "Lista dos possíveis valores da variável \"ano\":\n",
      "[2000, 2001, 2002, 2003, 2004, 2005, 2006, 2007, 2008, 2009, 2010, 2011, 2012, 2013, 2014, 2015, 2016, 2017, 2018, 2019, 2020, 2021]\n"
     ]
    }
   ],
   "source": [
    "print(f'Lista dos possíveis valores da variável \"ano\":')\n",
    "ano_unicos = df.select('ano').dropDuplicates().collect()\n",
    "ano_unicos = sorted([x[0] for x in ano_unicos])\n",
    "print(ano_unicos)"
   ]
  },
  {
   "cell_type": "code",
   "execution_count": 14,
   "id": "6dcfd65d",
   "metadata": {},
   "outputs": [
    {
     "name": "stdout",
     "output_type": "stream",
     "text": [
      "Quantidade de registros em que \"ano\" não é o ano obtido em \"din_instante\": 0\n"
     ]
    }
   ],
   "source": [
    "print(f'Quantidade de registros em que \"ano\" não é o ano obtido em \"din_instante\": \\\n",
    "{df.filter(F.col(\"ano\") != F.year(F.col(\"din_instante\"))).count()}')"
   ]
  },
  {
   "cell_type": "code",
   "execution_count": 15,
   "id": "ea152858",
   "metadata": {},
   "outputs": [
    {
     "name": "stdout",
     "output_type": "stream",
     "text": [
      "+----+------------+\n",
      "| ano|din_instante|\n",
      "+----+------------+\n",
      "|2012|  2012-01-01|\n",
      "|2012|  2012-01-01|\n",
      "|2012|  2012-01-01|\n",
      "|2012|  2012-01-01|\n",
      "|2012|  2012-01-02|\n",
      "|2012|  2012-01-02|\n",
      "|2012|  2012-01-02|\n",
      "|2012|  2012-01-02|\n",
      "|2012|  2012-01-03|\n",
      "|2012|  2012-01-03|\n",
      "|2012|  2012-01-03|\n",
      "|2012|  2012-01-03|\n",
      "|2012|  2012-01-04|\n",
      "|2012|  2012-01-04|\n",
      "|2012|  2012-01-04|\n",
      "|2012|  2012-01-04|\n",
      "|2012|  2012-01-05|\n",
      "|2012|  2012-01-05|\n",
      "|2012|  2012-01-05|\n",
      "|2012|  2012-01-05|\n",
      "+----+------------+\n",
      "only showing top 20 rows\n",
      "\n"
     ]
    }
   ],
   "source": [
    "ano_teste = randint(ano_unicos[0], ano_unicos[-1])\n",
    "df.select('ano', 'din_instante').filter(F.col('ano') == ano_teste).show()"
   ]
  },
  {
   "cell_type": "code",
   "execution_count": 16,
   "id": "f4bbc155",
   "metadata": {},
   "outputs": [
    {
     "name": "stdout",
     "output_type": "stream",
     "text": [
      "+----+-----+\n",
      "| ano|count|\n",
      "+----+-----+\n",
      "|2000| 1464|\n",
      "|2001| 1460|\n",
      "|2002| 1460|\n",
      "|2003| 1460|\n",
      "|2004| 1464|\n",
      "|2005| 1460|\n",
      "|2006| 1460|\n",
      "|2007| 1460|\n",
      "|2008| 1464|\n",
      "|2009| 1460|\n",
      "|2010| 1460|\n",
      "|2011| 1460|\n",
      "|2012| 1464|\n",
      "|2013| 1461|\n",
      "|2014| 1460|\n",
      "|2015| 1460|\n",
      "|2016| 1464|\n",
      "|2017| 1460|\n",
      "|2018| 1460|\n",
      "|2019| 1460|\n",
      "|2020| 1464|\n",
      "|2021|  964|\n",
      "+----+-----+\n",
      "\n"
     ]
    }
   ],
   "source": [
    "df.groupBy('ano').count().orderBy(F.col('ano')).show(22)"
   ]
  },
  {
   "cell_type": "code",
   "execution_count": 17,
   "id": "630e76cc",
   "metadata": {},
   "outputs": [],
   "source": [
    "sc.stop()"
   ]
  }
 ],
 "metadata": {
  "kernelspec": {
   "display_name": "Python [conda env:pyspark_env]",
   "language": "python",
   "name": "conda-env-pyspark_env-py"
  },
  "language_info": {
   "codemirror_mode": {
    "name": "ipython",
    "version": 3
   },
   "file_extension": ".py",
   "mimetype": "text/x-python",
   "name": "python",
   "nbconvert_exporter": "python",
   "pygments_lexer": "ipython3",
   "version": "3.9.6"
  }
 },
 "nbformat": 4,
 "nbformat_minor": 5
}
