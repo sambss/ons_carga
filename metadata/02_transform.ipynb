{
 "cells": [
  {
   "cell_type": "markdown",
   "id": "55c79164",
   "metadata": {},
   "source": [
    "## Vamos trabalhar com os dados abertos do ONS - Operador Nacional do Sistema Elétrico.\n",
    "\n",
    "### Optei por trabalhar com os dados de Carga de Energia. Definição conforme site: [Dados de carga por subsistema numa data de referência em base diária.](https://dados.ons.org.br/dataset/carga-energia)\n",
    "\n",
    "### Nessa etapa de exploração, iremos analisar o resultado da etapa de transformação."
   ]
  },
  {
   "cell_type": "code",
   "execution_count": 1,
   "id": "0e1b043f",
   "metadata": {},
   "outputs": [],
   "source": [
    "import os\n",
    "import pyspark\n",
    "\n",
    "from pyspark import SparkContext\n",
    "from pyspark.sql import SparkSession\n",
    "import pyspark.sql.functions as F\n",
    "from pyspark.sql.types import *"
   ]
  },
  {
   "cell_type": "code",
   "execution_count": 2,
   "id": "584afc5d",
   "metadata": {},
   "outputs": [
    {
     "name": "stdout",
     "output_type": "stream",
     "text": [
      "ApplicationID: local-1631037767489\n"
     ]
    }
   ],
   "source": [
    "sc = SparkContext.getOrCreate()\n",
    "\n",
    "spark = (SparkSession\n",
    "      .builder\n",
    "      .getOrCreate()\n",
    "     )\n",
    "\n",
    "print('ApplicationID:', sc.applicationId)"
   ]
  },
  {
   "cell_type": "markdown",
   "id": "9a25ebdf",
   "metadata": {},
   "source": [
    "### Caminho de Leitura e load do Dataframe"
   ]
  },
  {
   "cell_type": "code",
   "execution_count": 3,
   "id": "64a1e35c",
   "metadata": {},
   "outputs": [
    {
     "name": "stdout",
     "output_type": "stream",
     "text": [
      "Número de registros: 31649\n"
     ]
    }
   ],
   "source": [
    "read_path = '../data/refined/02_transform/'\n",
    "\n",
    "df = spark.read.parquet(read_path)\n",
    "\n",
    "print(f'Número de registros: {df.count()}')"
   ]
  },
  {
   "cell_type": "markdown",
   "id": "c26e3c57",
   "metadata": {},
   "source": [
    "### Os tipos das variáveis estão de acordo com os propostos"
   ]
  },
  {
   "cell_type": "code",
   "execution_count": 4,
   "id": "2c14f37f",
   "metadata": {},
   "outputs": [
    {
     "name": "stdout",
     "output_type": "stream",
     "text": [
      "root\n",
      " |-- id_subsistema: byte (nullable = true)\n",
      " |-- nom_subsistema: string (nullable = true)\n",
      " |-- din_instante: date (nullable = true)\n",
      " |-- val_cargaenergiamwmed: double (nullable = true)\n",
      "\n"
     ]
    }
   ],
   "source": [
    "df.printSchema()"
   ]
  },
  {
   "cell_type": "markdown",
   "id": "3a6aa514",
   "metadata": {},
   "source": [
    "### Exploração das variáveis"
   ]
  },
  {
   "cell_type": "markdown",
   "id": "18a3285e",
   "metadata": {},
   "source": [
    "#### Verificamos apenas 17 nulos em 'val_cargaeenergiamwmed', então espera-se obter o mesmo resultado"
   ]
  },
  {
   "cell_type": "code",
   "execution_count": 5,
   "id": "a0e47759",
   "metadata": {},
   "outputs": [
    {
     "name": "stdout",
     "output_type": "stream",
     "text": [
      "Número de 'id_subsistema' nulos: 0\n",
      "Número de 'nom_subsistema' nulos: 0\n",
      "Número de 'din_instante' nulos: 0\n",
      "Número de 'val_cargaenergiamwmed' nulos: 17\n"
     ]
    }
   ],
   "source": [
    "for variavel in df.columns:\n",
    "    print(f'Número de \\'{variavel}\\' nulos: {df.filter(F.col(variavel).isNull()).count()}')"
   ]
  },
  {
   "cell_type": "markdown",
   "id": "517ebf7e",
   "metadata": {},
   "source": [
    "#### É possível analisar a distribuição por ano dos registros"
   ]
  },
  {
   "cell_type": "code",
   "execution_count": 6,
   "id": "dd6803ca",
   "metadata": {},
   "outputs": [
    {
     "name": "stdout",
     "output_type": "stream",
     "text": [
      "+----+-----+\n",
      "| ano|count|\n",
      "+----+-----+\n",
      "|2000| 1464|\n",
      "|2001| 1460|\n",
      "|2002| 1460|\n",
      "|2003| 1460|\n",
      "|2004| 1464|\n",
      "|2005| 1460|\n",
      "|2006| 1460|\n",
      "|2007| 1460|\n",
      "|2008| 1464|\n",
      "|2009| 1460|\n",
      "|2010| 1460|\n",
      "|2011| 1460|\n",
      "|2012| 1464|\n",
      "|2013| 1461|\n",
      "|2014| 1460|\n",
      "|2015| 1460|\n",
      "|2016| 1464|\n",
      "|2017| 1460|\n",
      "|2018| 1460|\n",
      "|2019| 1460|\n",
      "|2020| 1464|\n",
      "|2021|  964|\n",
      "+----+-----+\n",
      "\n"
     ]
    }
   ],
   "source": [
    "df.groupBy(F.year(F.col('din_instante')).alias('ano')).count().orderBy(F.col('ano')).show(30)"
   ]
  },
  {
   "cell_type": "code",
   "execution_count": 7,
   "id": "bd07d7ab",
   "metadata": {},
   "outputs": [],
   "source": [
    "sc.stop()"
   ]
  }
 ],
 "metadata": {
  "kernelspec": {
   "display_name": "Python [conda env:pyspark_env]",
   "language": "python",
   "name": "conda-env-pyspark_env-py"
  },
  "language_info": {
   "codemirror_mode": {
    "name": "ipython",
    "version": 3
   },
   "file_extension": ".py",
   "mimetype": "text/x-python",
   "name": "python",
   "nbconvert_exporter": "python",
   "pygments_lexer": "ipython3",
   "version": "3.9.6"
  }
 },
 "nbformat": 4,
 "nbformat_minor": 5
}
