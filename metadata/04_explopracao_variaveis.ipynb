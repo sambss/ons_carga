{
 "cells": [
  {
   "cell_type": "markdown",
   "id": "596f1161",
   "metadata": {},
   "source": [
    "## Vamos trabalhar com os dados abertos do ONS - Operador Nacional do Sistema Elétrico.\n",
    "\n",
    "### Optei por trabalhar com os dados de Carga de Energia. Definição conforme site: [Dados de carga por subsistema numa data de referência em base diária](https://dados.ons.org.br/dataset/carga-energia)\n",
    "\n",
    "### Nessa etapa final do projeto, exploraremos algumas informações da base de dados"
   ]
  },
  {
   "cell_type": "markdown",
   "id": "cd1d8800",
   "metadata": {},
   "source": [
    "### Load das bibliotecas e definição do contexto spark"
   ]
  },
  {
   "cell_type": "code",
   "execution_count": 14,
   "id": "e50d95be",
   "metadata": {},
   "outputs": [],
   "source": [
    "import pyspark\n",
    "\n",
    "from pyspark import SparkContext\n",
    "from pyspark.sql import SparkSession\n",
    "import pyspark.sql.functions as F\n",
    "from random import randint\n",
    "import pandas as pd"
   ]
  },
  {
   "cell_type": "code",
   "execution_count": 2,
   "id": "b0edf432",
   "metadata": {
    "scrolled": true
   },
   "outputs": [
    {
     "name": "stderr",
     "output_type": "stream",
     "text": [
      "21/09/27 20:18:14 WARN Utils: Your hostname, sambss-IdeaPad resolves to a loopback address: 127.0.1.1; using 192.168.15.200 instead (on interface wlp0s20f3)\n",
      "21/09/27 20:18:14 WARN Utils: Set SPARK_LOCAL_IP if you need to bind to another address\n",
      "21/09/27 20:18:15 WARN NativeCodeLoader: Unable to load native-hadoop library for your platform... using builtin-java classes where applicable\n",
      "Using Spark's default log4j profile: org/apache/spark/log4j-defaults.properties\n",
      "Setting default log level to \"WARN\".\n",
      "To adjust logging level use sc.setLogLevel(newLevel). For SparkR, use setLogLevel(newLevel).\n"
     ]
    },
    {
     "name": "stdout",
     "output_type": "stream",
     "text": [
      "ApplicationID: local-1632784695914\n"
     ]
    }
   ],
   "source": [
    "sc = SparkContext.getOrCreate()\n",
    "\n",
    "spark = (SparkSession\n",
    "      .builder\n",
    "      .getOrCreate()\n",
    "     )\n",
    "\n",
    "print('ApplicationID:', sc.applicationId)"
   ]
  },
  {
   "cell_type": "markdown",
   "id": "cbae6810",
   "metadata": {},
   "source": [
    "### Caminhos de Leitura e Load da base"
   ]
  },
  {
   "cell_type": "code",
   "execution_count": 3,
   "id": "eab3f498",
   "metadata": {},
   "outputs": [],
   "source": [
    "read_path = '../data/refined/03_enriquecimento'"
   ]
  },
  {
   "cell_type": "code",
   "execution_count": 4,
   "id": "200a213b",
   "metadata": {},
   "outputs": [
    {
     "name": "stderr",
     "output_type": "stream",
     "text": [
      "\r",
      "[Stage 0:>                                                          (0 + 1) / 1]\r",
      "\r",
      "                                                                                \r"
     ]
    },
    {
     "name": "stdout",
     "output_type": "stream",
     "text": [
      "Número de registros: 31649\n",
      "root\n",
      " |-- id_medicao: integer (nullable = true)\n",
      " |-- nom_subsistema: string (nullable = true)\n",
      " |-- id_subsistema: byte (nullable = true)\n",
      " |-- val_cargaenergiamwmed: double (nullable = true)\n",
      " |-- din_instante: date (nullable = true)\n",
      " |-- mes: integer (nullable = true)\n",
      " |-- ano: integer (nullable = true)\n",
      "\n"
     ]
    }
   ],
   "source": [
    "df = spark.read.parquet(read_path)\n",
    "\n",
    "print(f'Número de registros: {df.count()}')\n",
    "\n",
    "df.printSchema()"
   ]
  },
  {
   "cell_type": "markdown",
   "id": "b311c3aa",
   "metadata": {},
   "source": [
    "### Iniciamos com a distribuição ao longo dos anos. 2013 Aparenta possuir um registro a mais que o esperado. Vamos verificar essa informação\n",
    "- Anos bissextos apresentam 1464 registros, não bissexto, 1460. 2013 Possui 1461. Vamos verificar qual dia possui dois registros a mais para uma mesma região.\n",
    "- A data 02-02-2013 apresenta 5 registros ao invés de 4.\n",
    "- Há dois registros do 'id_subsistema' para esse data. Um deles possui 'val_cargaenergiamwmed' nula."
   ]
  },
  {
   "cell_type": "code",
   "execution_count": 5,
   "id": "51cc4f11",
   "metadata": {},
   "outputs": [
    {
     "name": "stderr",
     "output_type": "stream",
     "text": [
      "\r",
      "[Stage 4:=================================>                    (124 + 10) / 200]\r",
      "\r",
      "                                                                                \r"
     ]
    },
    {
     "name": "stdout",
     "output_type": "stream",
     "text": [
      "+----+-----+\n",
      "| ano|count|\n",
      "+----+-----+\n",
      "|2000| 1464|\n",
      "|2001| 1460|\n",
      "|2002| 1460|\n",
      "|2003| 1460|\n",
      "|2004| 1464|\n",
      "|2005| 1460|\n",
      "|2006| 1460|\n",
      "|2007| 1460|\n",
      "|2008| 1464|\n",
      "|2009| 1460|\n",
      "|2010| 1460|\n",
      "|2011| 1460|\n",
      "|2012| 1464|\n",
      "|2013| 1461|\n",
      "|2014| 1460|\n",
      "|2015| 1460|\n",
      "|2016| 1464|\n",
      "|2017| 1460|\n",
      "|2018| 1460|\n",
      "|2019| 1460|\n",
      "|2020| 1464|\n",
      "|2021|  964|\n",
      "+----+-----+\n",
      "\n"
     ]
    }
   ],
   "source": [
    "df.groupBy(F.col('ano')).count().orderBy(F.col('ano')).show(30)"
   ]
  },
  {
   "cell_type": "code",
   "execution_count": 6,
   "id": "c0510df2",
   "metadata": {},
   "outputs": [
    {
     "name": "stdout",
     "output_type": "stream",
     "text": [
      "+------------+-----+\n",
      "|din_instante|count|\n",
      "+------------+-----+\n",
      "|  2013-02-02|    5|\n",
      "|  2013-09-09|    4|\n",
      "|  2013-09-12|    4|\n",
      "|  2013-01-22|    4|\n",
      "|  2013-03-26|    4|\n",
      "+------------+-----+\n",
      "only showing top 5 rows\n",
      "\n"
     ]
    }
   ],
   "source": [
    "df.filter(F.col('ano') == 2013).groupBy('din_instante').count().orderBy(F.col('count').desc()).show(5)"
   ]
  },
  {
   "cell_type": "code",
   "execution_count": 7,
   "id": "000cdf17",
   "metadata": {},
   "outputs": [
    {
     "name": "stdout",
     "output_type": "stream",
     "text": [
      "+----------+--------------+-------------+---------------------+------------+---+----+\n",
      "|id_medicao|nom_subsistema|id_subsistema|val_cargaenergiamwmed|din_instante|mes| ano|\n",
      "+----------+--------------+-------------+---------------------+------------+---+----+\n",
      "|     19125|         NORTE|            1|             4040.475|  2013-02-02|  2|2013|\n",
      "|     19126|      NORDESTE|            2|          9197.529875|  2013-02-02|  2|2013|\n",
      "|     19127|           SUL|            3|       10941.04154167|  2013-02-02|  2|2013|\n",
      "|     19128|           SUL|            3|                 null|  2013-02-02|  2|2013|\n",
      "|     19129|       SUDESTE|            4|         34397.934625|  2013-02-02|  2|2013|\n",
      "+----------+--------------+-------------+---------------------+------------+---+----+\n",
      "\n"
     ]
    }
   ],
   "source": [
    "df.filter(F.col('din_instante') == '2013-02-02').show()"
   ]
  },
  {
   "cell_type": "markdown",
   "id": "b0c96c2f",
   "metadata": {},
   "source": [
    "### Assim como o registro analisado, outros possuem valor nulo para 'val_cargaenergiamwmed'. Abaixo estão listados esses registros"
   ]
  },
  {
   "cell_type": "code",
   "execution_count": 8,
   "id": "e12ec42c",
   "metadata": {},
   "outputs": [
    {
     "name": "stdout",
     "output_type": "stream",
     "text": [
      "+----------+--------------+-------------+---------------------+------------+---+----+\n",
      "|id_medicao|nom_subsistema|id_subsistema|val_cargaenergiamwmed|din_instante|mes| ano|\n",
      "+----------+--------------+-------------+---------------------+------------+---+----+\n",
      "|     19128|           SUL|            3|                 null|  2013-02-02|  2|2013|\n",
      "|     20582|         NORTE|            1|                 null|  2014-02-01|  2|2014|\n",
      "|     20583|      NORDESTE|            2|                 null|  2014-02-01|  2|2014|\n",
      "|     20584|           SUL|            3|                 null|  2014-02-01|  2|2014|\n",
      "|     20585|       SUDESTE|            4|                 null|  2014-02-01|  2|2014|\n",
      "|     31638|         NORTE|            1|                 null|  2021-08-27|  8|2021|\n",
      "|     31639|      NORDESTE|            2|                 null|  2021-08-27|  8|2021|\n",
      "|     31640|           SUL|            3|                 null|  2021-08-27|  8|2021|\n",
      "|     31641|       SUDESTE|            4|                 null|  2021-08-27|  8|2021|\n",
      "|     31642|         NORTE|            1|                 null|  2021-08-28|  8|2021|\n",
      "|     31643|      NORDESTE|            2|                 null|  2021-08-28|  8|2021|\n",
      "|     31644|           SUL|            3|                 null|  2021-08-28|  8|2021|\n",
      "|     31645|       SUDESTE|            4|                 null|  2021-08-28|  8|2021|\n",
      "|     31646|         NORTE|            1|                 null|  2021-08-29|  8|2021|\n",
      "|     31647|      NORDESTE|            2|                 null|  2021-08-29|  8|2021|\n",
      "|     31648|           SUL|            3|                 null|  2021-08-29|  8|2021|\n",
      "|     31649|       SUDESTE|            4|                 null|  2021-08-29|  8|2021|\n",
      "+----------+--------------+-------------+---------------------+------------+---+----+\n",
      "\n"
     ]
    }
   ],
   "source": [
    "df.filter(F.col('val_cargaenergiamwmed').isNull()).show()"
   ]
  },
  {
   "cell_type": "markdown",
   "id": "fa8bb98a",
   "metadata": {},
   "source": [
    "### Análise Geral de 'val_cargaenergiamwmed'\n",
    "- Mínimo\n",
    "- Máximo\n",
    "- Média\n",
    "- Desvio Padrão"
   ]
  },
  {
   "cell_type": "code",
   "execution_count": 9,
   "id": "7aef0561",
   "metadata": {},
   "outputs": [
    {
     "name": "stdout",
     "output_type": "stream",
     "text": [
      "+-------------+-----------+------------------+------------------+\n",
      "|          min|        max|              mean|             stdev|\n",
      "+-------------+-----------+------------------+------------------+\n",
      "|1852.02083333|46700.40475|13375.566746478418|11430.088100677169|\n",
      "+-------------+-----------+------------------+------------------+\n",
      "\n"
     ]
    }
   ],
   "source": [
    "df.agg(F.min(F.col('val_cargaenergiamwmed')).alias('min'),\n",
    "      F.max(F.col('val_cargaenergiamwmed')).alias('max'),\n",
    "      F.mean(F.col('val_cargaenergiamwmed')).alias('mean'),\n",
    "      F.stddev(F.col('val_cargaenergiamwmed')).alias('stdev')).show()"
   ]
  },
  {
   "cell_type": "markdown",
   "id": "d25a060f",
   "metadata": {},
   "source": [
    "### Análise Geral de 'val_cargaenergiamwmed' por região\n",
    "- Mínimo\n",
    "- Máximo\n",
    "- Média\n",
    "- Desvio Padrão"
   ]
  },
  {
   "cell_type": "code",
   "execution_count": 10,
   "id": "77b2426f",
   "metadata": {},
   "outputs": [
    {
     "name": "stdout",
     "output_type": "stream",
     "text": [
      "+-------------+--------------+--------------+------------------+------------------+\n",
      "|id_subsistema|           min|           max|              mean|             stdev|\n",
      "+-------------+--------------+--------------+------------------+------------------+\n",
      "|            1| 1852.02083333|     6779.2955| 4053.623779164803| 1156.288926006875|\n",
      "|            2|      3904.475|13536.63062792|8187.4521357520625|1862.4059885690322|\n",
      "|            3| 4465.69125137|  15645.296125| 9116.678037705053|2065.8125687385495|\n",
      "|            4|15878.38583333|   46700.40475| 32144.51303329187| 5410.749594449195|\n",
      "+-------------+--------------+--------------+------------------+------------------+\n",
      "\n"
     ]
    }
   ],
   "source": [
    "df.groupBy('id_subsistema').agg(F.min(F.col('val_cargaenergiamwmed')).alias('min'),\n",
    "      F.max(F.col('val_cargaenergiamwmed')).alias('max'),\n",
    "      F.mean(F.col('val_cargaenergiamwmed')).alias('mean'),\n",
    "      F.stddev(F.col('val_cargaenergiamwmed')).alias('stdev')).orderBy('id_subsistema').show()"
   ]
  },
  {
   "cell_type": "markdown",
   "id": "7e84a37c",
   "metadata": {},
   "source": [
    "### Podemos obter essas informações para cada ano"
   ]
  },
  {
   "cell_type": "code",
   "execution_count": 11,
   "id": "7d5d8008",
   "metadata": {},
   "outputs": [
    {
     "name": "stdout",
     "output_type": "stream",
     "text": [
      "Análise de 2000:\n",
      "\n",
      "+-------------+--------------+------------------+-----------------+\n",
      "|          min|           max|              mean|            stdev|\n",
      "+-------------+--------------+------------------+-----------------+\n",
      "|2232.45416667|29569.82916667|10202.946119678696|9174.912131075394|\n",
      "+-------------+--------------+------------------+-----------------+\n",
      "\n",
      "Análise por região:\n",
      "+-------------+--------------+--------------+------------------+------------------+\n",
      "|id_subsistema|           min|           max|              mean|             stdev|\n",
      "+-------------+--------------+--------------+------------------+------------------+\n",
      "|            1| 2232.45416667|     2670.9625| 2486.946410964508| 99.96132748417685|\n",
      "|            2| 4485.20833333| 6747.90833333| 5862.865607923249|392.52421876531855|\n",
      "|            3|       4800.65|     8102.8375|6736.2913908193705| 751.7870962393797|\n",
      "|            4|19045.99583333|29569.82916667| 25725.68106900767|2103.5538022171354|\n",
      "+-------------+--------------+--------------+------------------+------------------+\n",
      "\n",
      "---------------------------------------------------------------------------------------------------- \n",
      "\n",
      "Análise de 2001:\n",
      "\n",
      "+-------------+--------------+-----------------+-----------------+\n",
      "|          min|           max|             mean|            stdev|\n",
      "+-------------+--------------+-----------------+-----------------+\n",
      "|1852.02083333|29754.89291667|9431.322592151908|8373.392233091807|\n",
      "+-------------+--------------+-----------------+-----------------+\n",
      "\n",
      "Análise por região:\n",
      "+-------------+--------------+--------------+-----------------+------------------+\n",
      "|id_subsistema|           min|           max|             mean|             stdev|\n",
      "+-------------+--------------+--------------+-----------------+------------------+\n",
      "|            1| 1852.02083333| 2674.56666667|2320.433573059425|236.49512104620868|\n",
      "|            2|      3904.475|     6685.1375|5293.252006849508| 741.5596554562834|\n",
      "|            3| 4508.37208333|      8499.625| 6848.23455136997| 884.4512419220094|\n",
      "|            4|15878.38583333|29754.89291667|23263.37023732878| 3637.085569855534|\n",
      "+-------------+--------------+--------------+-----------------+------------------+\n",
      "\n",
      "---------------------------------------------------------------------------------------------------- \n",
      "\n",
      "Análise de 2002:\n",
      "\n",
      "+-------------+--------------+-----------------+-----------------+\n",
      "|          min|           max|             mean|            stdev|\n",
      "+-------------+--------------+-----------------+-----------------+\n",
      "|1927.36666667|29207.56833318|9915.818331899138|8944.382048071051|\n",
      "+-------------+--------------+-----------------+-----------------+\n",
      "\n",
      "Análise por região:\n",
      "+-------------+--------------+--------------+------------------+------------------+\n",
      "|id_subsistema|           min|           max|              mean|             stdev|\n",
      "+-------------+--------------+--------------+------------------+------------------+\n",
      "|            1| 1927.36666667| 2745.60833333|2339.1202283104644|164.02718562199664|\n",
      "|            2| 4099.73208333| 6542.26708333|  5625.67426106647| 471.8213111764102|\n",
      "|            3| 4465.69125137| 7918.91916809| 6691.902679664165|  770.034391139584|\n",
      "|            4|16802.18250315|29207.56833318| 25006.57615855538| 2241.875997981741|\n",
      "+-------------+--------------+--------------+------------------+------------------+\n",
      "\n",
      "---------------------------------------------------------------------------------------------------- \n",
      "\n",
      "Análise de 2003:\n",
      "\n",
      "+---------+--------------+------------------+-----------------+\n",
      "|      min|           max|              mean|            stdev|\n",
      "+---------+--------------+------------------+-----------------+\n",
      "|2313.3375|30100.37000224|10439.936581078759|9265.901851373761|\n",
      "+---------+--------------+------------------+-----------------+\n",
      "\n",
      "Análise por região:\n",
      "+-------------+--------------+--------------+------------------+------------------+\n",
      "|id_subsistema|           min|           max|              mean|             stdev|\n",
      "+-------------+--------------+--------------+------------------+------------------+\n",
      "|            1|     2313.3375|    2984.72875| 2741.436660958931|130.83613246480675|\n",
      "|            2| 5033.28791667| 6818.08083333| 6039.928597830986| 377.9116122634525|\n",
      "|            3| 4743.74624522|  8260.9549998| 6837.723424085676| 793.9535964721066|\n",
      "|            4|20412.97125076|30100.37000224|26140.657641439437|2073.7939640191325|\n",
      "+-------------+--------------+--------------+------------------+------------------+\n",
      "\n",
      "---------------------------------------------------------------------------------------------------- \n",
      "\n"
     ]
    }
   ],
   "source": [
    "ano_desejado = 2003\n",
    "\n",
    "ano_desejado += 1\n",
    "for ano in range(2000,ano_desejado):\n",
    "    print(f'Análise de {ano}:\\n')\n",
    "    df_ano = df.filter(F.col('ano') == ano)\n",
    "    \n",
    "    df_ano.agg(F.min(F.col('val_cargaenergiamwmed')).alias('min'),\n",
    "      F.max(F.col('val_cargaenergiamwmed')).alias('max'),\n",
    "      F.mean(F.col('val_cargaenergiamwmed')).alias('mean'),\n",
    "      F.stddev(F.col('val_cargaenergiamwmed')).alias('stdev')).show()\n",
    "    \n",
    "    print(f'Análise por região:')\n",
    "    \n",
    "    df_ano.groupBy('id_subsistema').agg(F.min(F.col('val_cargaenergiamwmed')).alias('min'),\n",
    "      F.max(F.col('val_cargaenergiamwmed')).alias('max'),\n",
    "      F.mean(F.col('val_cargaenergiamwmed')).alias('mean'),\n",
    "      F.stddev(F.col('val_cargaenergiamwmed')).alias('stdev')).orderBy('id_subsistema').show()\n",
    "    print(100 * '-', '\\n')"
   ]
  },
  {
   "cell_type": "markdown",
   "id": "8ed42619",
   "metadata": {},
   "source": [
    "### Outra possibilidade é verificar a mudança no consumo de energia em um determinado mês ao longo dos anos."
   ]
  },
  {
   "cell_type": "code",
   "execution_count": 13,
   "id": "19e5607e",
   "metadata": {},
   "outputs": [
    {
     "name": "stdout",
     "output_type": "stream",
     "text": [
      "+----+-------------+--------------+------------------+------------------+\n",
      "| ano|          min|           max|              mean|             stdev|\n",
      "+----+-------------+--------------+------------------+------------------+\n",
      "|2000|2232.45416667|29569.82916667|10202.946119678696| 9174.912131075394|\n",
      "|2001|1852.02083333|29754.89291667| 9431.322592151908| 8373.392233091807|\n",
      "|2002|1927.36666667|29207.56833318| 9915.818331899138| 8944.382048071051|\n",
      "|2003|    2313.3375|30100.37000224|10439.936581078759| 9265.901851373761|\n",
      "|2004|    2676.6125|30947.97874985|10931.681881722756| 9625.415788611326|\n",
      "|2005|2763.85416667|32190.82291595|11427.088372745451| 9996.013940535953|\n",
      "|2006|3019.30666667|32879.37754167| 11866.44984654193|10316.405739049138|\n",
      "|2007|3104.37958333|34835.76916667|12431.233749172408|10860.171488526996|\n",
      "|2008|3158.84208333|35905.64458333|12750.575695013702|11046.944459279834|\n",
      "|2009|3205.83416667|36738.17041667|12648.075568914266|10907.094652673079|\n",
      "|2010| 3392.9102586|   38843.28125|13555.569034980554|11727.868976550872|\n",
      "|2011|3567.54958333|39328.98583333| 14018.89172615097|12121.944086907111|\n",
      "|2012|3592.49458333|     41664.635|14563.034161650909|12437.386883109573|\n",
      "|2013|    3564.3975|40593.84191667|14687.841875211121|11828.560783785915|\n",
      "|2014|4389.62725152|     43664.439|15396.104374670007|12375.017975713456|\n",
      "|2015|   4443.29025|45132.94245833|15343.562305334974|12238.990405056804|\n",
      "|2016|4556.79558333|42666.16197499|15411.232271184783|12021.444684452059|\n",
      "|2017|4477.76995833|44232.43641667|15671.516299382582|12151.455358564339|\n",
      "|2018|4550.29529167|44645.75891667|15820.133165251362| 12300.22295766878|\n",
      "|2019|4688.34120833|   46700.40475|16145.509546299327|12507.784259928536|\n",
      "|2020|4669.55395833|45105.42241667|15857.337456465879|12229.742696103078|\n",
      "|2021|5223.08958333|46490.93629167| 17022.57092093436|13082.046110884083|\n",
      "+----+-------------+--------------+------------------+------------------+\n",
      "\n"
     ]
    }
   ],
   "source": [
    "# Avaliaremos, neste caso, o mês de Janeiro (01)\n",
    "mes = 1\n",
    "\n",
    "df_mes = df.filter(F.col('mes') == mes)\n",
    "\n",
    "df.groupBy(F.col('ano')).agg(F.min(F.col('val_cargaenergiamwmed')).alias('min'),\n",
    "      F.max(F.col('val_cargaenergiamwmed')).alias('max'),\n",
    "      F.mean(F.col('val_cargaenergiamwmed')).alias('mean'),\n",
    "      F.stddev(F.col('val_cargaenergiamwmed')).alias('stdev')).orderBy(F.col('ano')).show(30)"
   ]
  },
  {
   "cell_type": "code",
   "execution_count": 19,
   "id": "b5468e50",
   "metadata": {},
   "outputs": [],
   "source": [
    "# Coleta das médias no mês de Janeiro para visualização\n",
    "\n",
    "lista_media = df_mes.groupBy(F.col('ano')).agg(\n",
    "    F.mean(F.col('val_cargaenergiamwmed')).alias('mean')).orderBy(F.col('ano')).collect()\n",
    "\n",
    "lista_media = [[x[0], round(x[1], 2)] for x in lista_media]"
   ]
  },
  {
   "cell_type": "code",
   "execution_count": 20,
   "id": "a82054af",
   "metadata": {},
   "outputs": [
    {
     "data": {
      "text/plain": [
       "[[2000, 9813.35],\n",
       " [2001, 10616.09],\n",
       " [2002, 9124.75],\n",
       " [2003, 10371.83],\n",
       " [2004, 10580.99],\n",
       " [2005, 11331.39],\n",
       " [2006, 11925.02],\n",
       " [2007, 12292.35],\n",
       " [2008, 12719.11],\n",
       " [2009, 12197.76],\n",
       " [2010, 13538.17],\n",
       " [2011, 14103.97],\n",
       " [2012, 14494.54],\n",
       " [2013, 14551.07],\n",
       " [2014, 16355.53],\n",
       " [2015, 16807.51],\n",
       " [2016, 15637.1],\n",
       " [2017, 16614.44],\n",
       " [2018, 16632.92],\n",
       " [2019, 17799.23],\n",
       " [2020, 17135.31],\n",
       " [2021, 17473.44]]"
      ]
     },
     "execution_count": 20,
     "metadata": {},
     "output_type": "execute_result"
    }
   ],
   "source": [
    "lista_media"
   ]
  },
  {
   "cell_type": "code",
   "execution_count": 43,
   "id": "8d0bcecb",
   "metadata": {},
   "outputs": [],
   "source": [
    "df_pd = pd.DataFrame(data= lista_media, columns=['ano', 'consumo_medio'])\n",
    "df_pd = df_pd.set_index('ano')"
   ]
  },
  {
   "cell_type": "code",
   "execution_count": 47,
   "id": "72a092c3",
   "metadata": {},
   "outputs": [
    {
     "data": {
      "text/plain": [
       "<AxesSubplot:xlabel='ano'>"
      ]
     },
     "execution_count": 47,
     "metadata": {},
     "output_type": "execute_result"
    },
    {
     "data": {
      "image/png": "[encoded data removed]",
      "text/plain": [
       "<Figure size 432x288 with 1 Axes>"
      ]
     },
     "metadata": {
      "needs_background": "light"
     },
     "output_type": "display_data"
    }
   ],
   "source": [
    "df_pd.plot()"
   ]
  },
  {
   "cell_type": "code",
   "execution_count": null,
   "id": "f50ff83d",
   "metadata": {},
   "outputs": [],
   "source": [
    "sc.stop()"
   ]
  }
 ],
 "metadata": {
  "kernelspec": {
   "display_name": "Python 3 (ipykernel)",
   "language": "python",
   "name": "python3"
  },
  "language_info": {
   "codemirror_mode": {
    "name": "ipython",
    "version": 3
   },
   "file_extension": ".py",
   "mimetype": "text/x-python",
   "name": "python",
   "nbconvert_exporter": "python",
   "pygments_lexer": "ipython3",
   "version": "3.8.8"
  }
 },
 "nbformat": 4,
 "nbformat_minor": 5
}
