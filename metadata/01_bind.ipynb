{
 "cells": [
  {
   "cell_type": "markdown",
   "id": "a2ff47d6",
   "metadata": {},
   "source": [
    "## Vamos trabalhar com os dados abertos do ONS - Operador Nacional do Sistema Elétrico.\n",
    "\n",
    "### Optei por trabalhar com os dados de Carga de Energia. Definição conforme site: [Dados de carga por subsistema numa data de referência em base diária.](https://dados.ons.org.br/dataset/carga-energia)\n",
    "\n",
    "\n",
    "### Nessa primeira validação, faremos uma breve comparação entre a base bruta e a convertida em parquet."
   ]
  },
  {
   "cell_type": "code",
   "execution_count": 1,
   "id": "e8dcaca7",
   "metadata": {},
   "outputs": [],
   "source": [
    "import os\n",
    "import pyspark\n",
    "\n",
    "from pyspark import SparkContext\n",
    "from pyspark.sql import SparkSession\n",
    "import pyspark.sql.functions as F\n",
    "from pyspark.sql.types import *"
   ]
  },
  {
   "cell_type": "code",
   "execution_count": 2,
   "id": "34dec888",
   "metadata": {},
   "outputs": [
    {
     "name": "stdout",
     "output_type": "stream",
     "text": [
      "ApplicationID: local-1630709313833\n"
     ]
    }
   ],
   "source": [
    "sc = SparkContext.getOrCreate()\n",
    "\n",
    "spark = (SparkSession\n",
    "      .builder\n",
    "      .getOrCreate()\n",
    "     )\n",
    "\n",
    "print('ApplicationID:', sc.applicationId)"
   ]
  },
  {
   "cell_type": "markdown",
   "id": "36c8e6df",
   "metadata": {},
   "source": [
    "### Caminhos de Leitura e Load dos Dataframes"
   ]
  },
  {
   "cell_type": "code",
   "execution_count": 3,
   "id": "a4ac6213",
   "metadata": {},
   "outputs": [],
   "source": [
    "raw_path = '../data/raw/'\n",
    "raw_path_list = [raw_path + x for x in os.listdir(raw_path)]\n",
    "raw_path_list.sort()\n",
    "\n",
    "dfs = [spark.read.csv(x, header= True, multiLine= True, sep= \";\") for x in raw_path_list]\n",
    "\n",
    "df_raw = dfs[0]\n",
    "for i in range(1,len(dfs)):\n",
    "    df_raw = df_raw.union(dfs[i])"
   ]
  },
  {
   "cell_type": "code",
   "execution_count": 4,
   "id": "b9b03532",
   "metadata": {},
   "outputs": [],
   "source": [
    "bind_path = '../data/refined/01_bind/'\n",
    "\n",
    "df_bind = spark.read.parquet(bind_path)"
   ]
  },
  {
   "cell_type": "markdown",
   "id": "8acfa956",
   "metadata": {},
   "source": [
    "### Exploração dos Dataframes"
   ]
  },
  {
   "cell_type": "code",
   "execution_count": 5,
   "id": "1fbb7080",
   "metadata": {
    "scrolled": false
   },
   "outputs": [
    {
     "name": "stdout",
     "output_type": "stream",
     "text": [
      "Variável 'id_subsistema':\n",
      "Quantidade de registros nulos na base raw: 0\n",
      "Quantidade de registros nulos no bind: 0\n",
      "--------------------------------------------------\n",
      "Quantidade de registros únicos na base raw: 4\n",
      "Quantidade de registros únicos no bind: 4\n",
      "\n",
      "\n",
      "Variável 'nom_subsistema':\n",
      "Quantidade de registros nulos na base raw: 0\n",
      "Quantidade de registros nulos no bind: 0\n",
      "--------------------------------------------------\n",
      "Quantidade de registros únicos na base raw: 4\n",
      "Quantidade de registros únicos no bind: 4\n",
      "\n",
      "\n",
      "Variável 'din_instante':\n",
      "Quantidade de registros nulos na base raw: 0\n",
      "Quantidade de registros nulos no bind: 0\n",
      "--------------------------------------------------\n",
      "Quantidade de registros únicos na base raw: 7913\n",
      "Quantidade de registros únicos no bind: 7913\n",
      "\n",
      "\n",
      "Variável 'val_cargaenergiamwmed':\n",
      "Quantidade de registros nulos na base raw: 17\n",
      "Quantidade de registros nulos no bind: 17\n",
      "--------------------------------------------------\n",
      "Quantidade de registros únicos na base raw: 31625\n",
      "Quantidade de registros únicos no bind: 31625\n",
      "\n",
      "\n"
     ]
    }
   ],
   "source": [
    "for variavel in df_bind.columns:\n",
    "    print(f'Variável \\'{variavel}\\':')\n",
    "    print(f'Quantidade de registros nulos na base raw: {df_raw.filter(F.col(variavel).isNull()).count()}')\n",
    "    print(f'Quantidade de registros nulos no bind: {df_bind.filter(F.col(variavel).isNull()).count()}')\n",
    "    print(50 * '-')\n",
    "    print(f'Quantidade de registros únicos na base raw: {df_raw.select(variavel).dropDuplicates().count()}')\n",
    "    print(f'Quantidade de registros únicos no bind: {df_bind.select(variavel).dropDuplicates().count()}')\n",
    "    print('\\n')"
   ]
  },
  {
   "cell_type": "code",
   "execution_count": 6,
   "id": "7228a05a",
   "metadata": {},
   "outputs": [],
   "source": [
    "sc.stop()"
   ]
  }
 ],
 "metadata": {
  "kernelspec": {
   "display_name": "Python [conda env:pyspark_env]",
   "language": "python",
   "name": "conda-env-pyspark_env-py"
  },
  "language_info": {
   "codemirror_mode": {
    "name": "ipython",
    "version": 3
   },
   "file_extension": ".py",
   "mimetype": "text/x-python",
   "name": "python",
   "nbconvert_exporter": "python",
   "pygments_lexer": "ipython3",
   "version": "3.9.6"
  }
 },
 "nbformat": 4,
 "nbformat_minor": 5
}
